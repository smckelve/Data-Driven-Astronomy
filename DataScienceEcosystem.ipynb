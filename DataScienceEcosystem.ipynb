{
 "cells": [
  {
   "cell_type": "markdown",
   "id": "bb83fb1c-25b9-4dd6-bb9a-bc8fab84c7b4",
   "metadata": {},
   "source": [
    "# Data Science Tools and Ecosystem"
   ]
  },
  {
   "cell_type": "markdown",
   "id": "9762057c",
   "metadata": {},
   "source": [
    "## In this notebook, Data Science Tools and Ecosystem are summarized."
   ]
  },
  {
   "cell_type": "markdown",
   "id": "df066e6d",
   "metadata": {},
   "source": [
    "## Objectives:\n",
    "<ul>\n",
    "<li>List popular languages used in Data Science</li>\n",
    "<li>List popular libraries used in Data Science</li>\n",
    "<li>List popular tools used in Data Science</li>\n",
    "<li>Show examples of arithmetic expressions like addition, multiplacation and Division</li>\n",
    "</ul>"
   ]
  },
  {
   "cell_type": "markdown",
   "id": "2647c5aa",
   "metadata": {},
   "source": [
    "##  Some of the popular languages that Data Scientists use are:\n",
    "<ol>\n",
    "<li>Python</li>\n",
    "<li>R</li>\n",
    "<li>Julia</li>\n",
    "</ol>"
   ]
  },
  {
   "cell_type": "markdown",
   "id": "36db967b",
   "metadata": {},
   "source": [
    "## Some of the commonly used libraries used by Data Scientists include:\n",
    "<ol>\n",
    "<li>Pandas</li>\n",
    "<li>Numpy</li>\n",
    "<li>Matplotlib</li>\n",
    "<li>Tensorflow</li>\n",
    "</ol>"
   ]
  },
  {
   "cell_type": "markdown",
   "id": "dc4e7ec6",
   "metadata": {},
   "source": [
    "## Data Science Tools:\n",
    "<ol>\n",
    "<li>Apache Hadoop</li>\n",
    "<li>Tableau</li>\n",
    "<li>Tensorflow</li>\n",
    "<li>Juypter</li>\n",
    "</ol>"
   ]
  },
  {
   "cell_type": "markdown",
   "id": "545d97c3",
   "metadata": {},
   "source": [
    "### Below are a few examples of evaluating arithmetic expressions in Python"
   ]
  },
  {
   "cell_type": "code",
   "execution_count": 1,
   "id": "ece2a4e1",
   "metadata": {},
   "outputs": [
    {
     "data": {
      "text/plain": [
       "17"
      ]
     },
     "execution_count": 1,
     "metadata": {},
     "output_type": "execute_result"
    }
   ],
   "source": [
    "# This a simple arithmetic expression to mutiply then add integers\n",
    "(3*4)+5"
   ]
  },
  {
   "cell_type": "code",
   "execution_count": 3,
   "id": "4bec76e1",
   "metadata": {},
   "outputs": [
    {
     "name": "stdout",
     "output_type": "stream",
     "text": [
      "3.3333333333333335\n",
      "3\n"
     ]
    }
   ],
   "source": [
    "# This will convert 200 minutes to hours by diving by 60\n",
    "hours = 200/60\n",
    "print(hours)\n",
    "# Convert to integer hours with floor division\n",
    "hrs = 200//60\n",
    "print(hrs)"
   ]
  },
  {
   "cell_type": "markdown",
   "id": "04b053e5",
   "metadata": {},
   "source": [
    "## Author\n",
    "Samuel McKelevy"
   ]
  }
 ],
 "metadata": {
  "kernelspec": {
   "display_name": "Python 3",
   "language": "python",
   "name": "python3"
  },
  "language_info": {
   "codemirror_mode": {
    "name": "ipython",
    "version": 3
   },
   "file_extension": ".py",
   "mimetype": "text/x-python",
   "name": "python",
   "nbconvert_exporter": "python",
   "pygments_lexer": "ipython3",
   "version": "3.12.5"
  }
 },
 "nbformat": 4,
 "nbformat_minor": 5
}
